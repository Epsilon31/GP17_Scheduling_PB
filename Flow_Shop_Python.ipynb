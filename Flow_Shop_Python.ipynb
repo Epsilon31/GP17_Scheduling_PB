{
 "cells": [
  {
   "cell_type": "markdown",
   "id": "799e9c90",
   "metadata": {},
   "source": [
    "# Scheduling problem in Flow shop situation\n"
   ]
  },
  {
   "cell_type": "markdown",
   "id": "ead195e9",
   "metadata": {},
   "source": [
    "ThThe objective of this session is to explore how to apply several heuristics to flow shop problems using python.\n",
    "\n",
    "**Flow shop with 2 machines**\n",
    "\n",
    "Hypotheses of this problem : \n",
    "\n",
    "n = 6 (number of tasks)\n",
    "\n",
    "m = 2 (number of machines)\n",
    "\n",
    "Preemptive tasks are not allowed\n",
    "\n",
    "Each machine must perform tasks one by one.\n",
    "\n"
   ]
  },
  {
   "cell_type": "code",
   "execution_count": 32,
   "id": "df7b0245",
   "metadata": {},
   "outputs": [],
   "source": [
    "P = [[9,3],[5,12],[16,9],[11,2],[7,15],[4,18]] #Matrix of processing times \n",
    "n= 6\n",
    "m=2"
   ]
  },
  {
   "cell_type": "markdown",
   "id": "0fc959a7",
   "metadata": {},
   "source": [
    "**Johnson Rule**"
   ]
  },
  {
   "cell_type": "code",
   "execution_count": 13,
   "id": "f1d8ea9d",
   "metadata": {},
   "outputs": [],
   "source": [
    "S_Beg = []\n",
    "S_End = []\n",
    "def Johnson_sort(P,S_Beg,S_End):\n",
    "   \n",
    "\n",
    "    for i in range(len(P)):\n",
    "        if P[i][0] < P[i][1]:\n",
    "            S_Beg.append(i)\n",
    "        else:\n",
    "            S_End.append(i)\n",
    "    return S_Beg, S_End\n",
    "    \n",
    "    \"\"\" P : Matrix of processing times\n",
    "       S_Beg : List of tasks whose processing time is shorter on the first machine\n",
    "       S_End : List of tasks whose processing time is longer on the first machine than on the second machine \"\"\""
   ]
  },
  {
   "cell_type": "code",
   "execution_count": 14,
   "id": "3a40d34b",
   "metadata": {},
   "outputs": [],
   "source": [
    "S_Beg, S_End = Johnson_sort(P,S_Beg,S_End)"
   ]
  },
  {
   "cell_type": "code",
   "execution_count": 15,
   "id": "87592cc5",
   "metadata": {},
   "outputs": [
    {
     "name": "stdout",
     "output_type": "stream",
     "text": [
      "[1, 4, 5]\n",
      "[0, 2, 3]\n"
     ]
    }
   ],
   "source": [
    "print(S_Beg)\n",
    "print(S_End)"
   ]
  },
  {
   "cell_type": "code",
   "execution_count": 18,
   "id": "f045a70b",
   "metadata": {},
   "outputs": [
    {
     "name": "stdout",
     "output_type": "stream",
     "text": [
      "[5, 1, 4]\n"
     ]
    }
   ],
   "source": [
    "S_Beg = sorted(S_Beg, key = lambda i : P[i][0], reverse = False) # Sort S_Beg by increasing processing times\n",
    "print(S_Beg)"
   ]
  },
  {
   "cell_type": "code",
   "execution_count": 20,
   "id": "b2836474",
   "metadata": {},
   "outputs": [
    {
     "name": "stdout",
     "output_type": "stream",
     "text": [
      "[2, 0, 3]\n"
     ]
    }
   ],
   "source": [
    "S_End = sorted(S_End, key= lambda i : P[i][1], reverse = True) # Sort _ S_End by decreasing processing times\n",
    "print(S_End)"
   ]
  },
  {
   "cell_type": "code",
   "execution_count": 101,
   "id": "26c3f43c",
   "metadata": {},
   "outputs": [
    {
     "name": "stdout",
     "output_type": "stream",
     "text": [
      "[5, 1, 4, 2, 0, 3]\n"
     ]
    }
   ],
   "source": [
    "S = S_Beg + S_End # Final sequence \n",
    "print(S)"
   ]
  },
  {
   "cell_type": "code",
   "execution_count": 102,
   "id": "237f84b9",
   "metadata": {},
   "outputs": [],
   "source": [
    "def Johnson_Rule(P,n,m):\n",
    "    S_Beg = []\n",
    "    S_End = []\n",
    "    S = []\n",
    "    S_Beg,S_End = Johnson_sort(P,S_Beg,S_End)\n",
    "    S_Beg = sorted(S_Beg, key = lambda i : P[i][0], reverse = False)\n",
    "    S_End = sorted(S_End, key= lambda i : P[i][1], reverse = True)\n",
    "    S = S_Beg + S_End\n",
    "    return S\n",
    "    "
   ]
  },
  {
   "cell_type": "markdown",
   "id": "bbc4341a",
   "metadata": {},
   "source": [
    "**Calculate Cmax**"
   ]
  },
  {
   "cell_type": "code",
   "execution_count": 23,
   "id": "3d3d3b6b",
   "metadata": {},
   "outputs": [],
   "source": [
    "def Cmax(S,n,m,P):\n",
    "    C = [] # Empty list C\n",
    "    for i in range(0,n):\n",
    "        C.append([]) # Create a new list in the list C for each task\n",
    "        for j in range(0,m):\n",
    "            C[i].append([]) # Create a new list int he list i of the list C for each machine\n",
    "    for i in range(0,n):\n",
    "        for j in range(0,m):\n",
    "            if i ==0: # First task\n",
    "                if j == 0: # First machin\n",
    "                    C[i][j] = P[S[i]][j]  # At the beginning of the production, the completion time is equal to the processing time of the first task in the sequence\n",
    "                else: \n",
    "                    C[i][j] = C[i][j-1] + P[S[i]][j] # Then to calculate the completion time, we sum the previous processing times\n",
    "            elif j == 0: #Première machine\n",
    "                C[i][j] = C[i-1][j] + P[S[i]][j]\n",
    "            else: #Cas général\n",
    "                C[i][j] = max(C[i-1][j],C[i][j-1]) + P[S[i]][j]\n",
    "    return C[n-1][m-1]"
   ]
  },
  {
   "cell_type": "code",
   "execution_count": 34,
   "id": "4773924e",
   "metadata": {},
   "outputs": [
    {
     "name": "stdout",
     "output_type": "stream",
     "text": [
      "63\n"
     ]
    }
   ],
   "source": [
    "Cmax_Johnson = Cmax(S,n,m,P)\n",
    "print(Cmax_Johnson)"
   ]
  },
  {
   "cell_type": "markdown",
   "id": "f00bbdeb",
   "metadata": {},
   "source": [
    "**Flow shop with several machines**"
   ]
  },
  {
   "cell_type": "code",
   "execution_count": 43,
   "id": "ced65deb",
   "metadata": {},
   "outputs": [],
   "source": [
    "n = 4\n",
    "m = 3\n",
    "P=[[5,2,1],[2,3,4],[4,7,9],[9,4,3]] "
   ]
  },
  {
   "cell_type": "markdown",
   "id": "e93e0150",
   "metadata": {},
   "source": [
    "**Palmer Heuristic**\n"
   ]
  },
  {
   "cell_type": "code",
   "execution_count": 47,
   "id": "b79f0b27",
   "metadata": {},
   "outputs": [],
   "source": [
    "def Palmer_Heuristic(P,n,m):\n",
    "    S = [i for i in range(n)]\n",
    "    SP = [0]*n\n",
    "    \n",
    "    for i in range(n):\n",
    "        for j in range(m):\n",
    "            SP[i] += (2*(j+1) - (m+1))*P[i][j] # The range function finish at m-1 ! \n",
    "    return sorted(S, key = lambda i : SP[i], reverse = True)"
   ]
  },
  {
   "cell_type": "code",
   "execution_count": 48,
   "id": "a7e87550",
   "metadata": {},
   "outputs": [
    {
     "name": "stdout",
     "output_type": "stream",
     "text": [
      "[2, 1, 0, 3]\n"
     ]
    }
   ],
   "source": [
    "S_Palmer = Palmer_Heuristic(P,n,m)\n",
    "print(S_Palmer)"
   ]
  },
  {
   "cell_type": "code",
   "execution_count": 96,
   "id": "230f68f3",
   "metadata": {},
   "outputs": [],
   "source": [
    "Cmax_Palmer = Cmax(S_Palmer,n,m,P)"
   ]
  },
  {
   "cell_type": "markdown",
   "id": "43ccd6fe",
   "metadata": {},
   "source": [
    "**Gupta Heuristic**\n"
   ]
  },
  {
   "cell_type": "code",
   "execution_count": 58,
   "id": "e8da3765",
   "metadata": {},
   "outputs": [],
   "source": [
    "def binary(P,j,m):\n",
    "    ej = -1\n",
    "    if P[j][0] < P[j][m-1]:\n",
    "        ej = 1\n",
    "    return ej\n",
    "    "
   ]
  },
  {
   "cell_type": "code",
   "execution_count": 59,
   "id": "2b5716f6",
   "metadata": {},
   "outputs": [],
   "source": [
    "def Gupta(P,n,m):\n",
    "    S = [i for i in range(n)]\n",
    "    S_Gupta = [0]*n\n",
    "    Min = []\n",
    "    for i in range(n):\n",
    "        Min.clear()\n",
    "        for j in range(m-1):\n",
    "            Min.append(P[i][j] + P[i][j+1])\n",
    "        minimum = min(Min)\n",
    "        S_Gupta[i] = binary(P,i,m)/minimum\n",
    "    return sorted(S, key = lambda i : S_Gupta[i], reverse = True)"
   ]
  },
  {
   "cell_type": "code",
   "execution_count": 61,
   "id": "16c82527",
   "metadata": {},
   "outputs": [],
   "source": [
    "S_Gupta = Gupta(P,n,m)"
   ]
  },
  {
   "cell_type": "code",
   "execution_count": 95,
   "id": "efdfa0c6",
   "metadata": {},
   "outputs": [],
   "source": [
    "Cmax_Gupta = Cmax(S_Gupta,n,m,P)"
   ]
  },
  {
   "cell_type": "markdown",
   "id": "8c8b8490",
   "metadata": {},
   "source": [
    "**NEH**"
   ]
  },
  {
   "cell_type": "code",
   "execution_count": 89,
   "id": "b8ce43ce",
   "metadata": {},
   "outputs": [],
   "source": [
    "def Sorted(n,m,P):\n",
    "    S = [i for i in range(n)]\n",
    "    return sorted(S, key = lambda i : sum(P[i]),reverse = True)"
   ]
  },
  {
   "cell_type": "code",
   "execution_count": 90,
   "id": "a9d11d69",
   "metadata": {},
   "outputs": [],
   "source": [
    "\n",
    "\n",
    "\n",
    "def NEH(S,n,m):\n",
    "    R=[]\n",
    "    R.append(S[0])\n",
    "    del(S[0])\n",
    "    for j in range(0,len(S)):\n",
    "        LR = []\n",
    "        Cmax_LR = 0\n",
    "        for k in range(0,len(R)+1):\n",
    "            R_jk = R.copy()\n",
    "            R_jk.insert(k,S[j])\n",
    "            LR.append(R_jk)\n",
    "            Cmax_LR_C = Cmax(R_jk,len(R_jk),m,P)\n",
    "            if Cmax_LR_C <= Cmax_LR:\n",
    "                Cmax_LR = Cmax(R_jk,len(R_jk),m,P)\n",
    "        R = LR[k].copy()\n",
    "    return R\n",
    "                    "
   ]
  },
  {
   "cell_type": "markdown",
   "id": "6baa6236",
   "metadata": {},
   "source": [
    "**Etapes** : \n",
    "- Créer la liste S des tâches triées dans l'ordre y en  utilisant la fonction sorted\n",
    "- Affecter la tâche S[0] comme premier élément d'une liste R qui contiendra la séquence finale\n",
    "- Pour chaque tâche j de S : \n",
    "    - Créer une liste LR vide qui contiendra les permutations.\n",
    "    - Pour chaque k de 1 à len(R)\n",
    "        - Créer la liste R_jk à partir de R\n",
    "        - Insérer la tâche j à la position k dans R_jk en utilisant la fonction insert(k,j)\n",
    "        - Insérer R_jk dans LR en utilisant append\n",
    "    - Récupérer la meilleur permutation de LR selon son Cmax et l'affecter à R\n",
    "    "
   ]
  },
  {
   "cell_type": "code",
   "execution_count": 91,
   "id": "ec0b6c4b",
   "metadata": {},
   "outputs": [],
   "source": [
    "S = Sorted(n,m,P)"
   ]
  },
  {
   "cell_type": "code",
   "execution_count": 92,
   "id": "29b38add",
   "metadata": {},
   "outputs": [
    {
     "name": "stdout",
     "output_type": "stream",
     "text": [
      "[2, 3, 1, 0]\n"
     ]
    }
   ],
   "source": [
    "S_NEH = NEH(S,n,m)\n",
    "print(S_NEH)"
   ]
  },
  {
   "cell_type": "code",
   "execution_count": 94,
   "id": "eccf1045",
   "metadata": {},
   "outputs": [],
   "source": [
    "Cmax_NEH = Cmax(S_NEH,n,m,P)"
   ]
  },
  {
   "cell_type": "markdown",
   "id": "f6ef9556",
   "metadata": {},
   "source": [
    "**CDS**"
   ]
  },
  {
   "cell_type": "code",
   "execution_count": 136,
   "id": "20154b11",
   "metadata": {},
   "outputs": [],
   "source": [
    "def CDS(n,m,P):\n",
    "    LS = []\n",
    "    C = []\n",
    "    pDeriv = [[0 for i in range(2)] for i in range(n)]\n",
    "    for j in range(0,m):\n",
    "        for k in range(n):\n",
    "            for i in range(j):\n",
    "                pDeriv[k][0] += P[k][i]\n",
    "                pDeriv[k][1] += P[k][m-j]\n",
    "        LS.append(Johnson_Rule(pDeriv,n,m))\n",
    "        C.append(Cmax(LS[j],n,m,P))\n",
    "    \n",
    "    \n",
    "    \n",
    "    return LS[C.index(min(C))],min(C)\n",
    "    #return sorted(LS, key = lambda i : C[i], reverse = False)\n",
    "    \n",
    "            \n",
    "        \n",
    "        "
   ]
  },
  {
   "cell_type": "code",
   "execution_count": 138,
   "id": "e358af6d",
   "metadata": {},
   "outputs": [
    {
     "name": "stdout",
     "output_type": "stream",
     "text": [
      "[1, 2, 3, 0]\n",
      "26\n"
     ]
    }
   ],
   "source": [
    "S,Cmax_CDS = CDS(n,m,P)\n",
    "print(S)\n",
    "print(Cmax_CDS)\n"
   ]
  },
  {
   "cell_type": "code",
   "execution_count": 139,
   "id": "ae2add47",
   "metadata": {},
   "outputs": [],
   "source": [
    "C = [Cmax_CDS,Cmax_Gupta,Cmax_NEH,Cmax_Palmer]"
   ]
  },
  {
   "cell_type": "code",
   "execution_count": 142,
   "id": "10412924",
   "metadata": {},
   "outputs": [
    {
     "name": "stdout",
     "output_type": "stream",
     "text": [
      "0\n",
      "26\n"
     ]
    }
   ],
   "source": [
    "print(C.index(min(C)))\n",
    "print(min(C))"
   ]
  },
  {
   "cell_type": "markdown",
   "id": "d09dec99",
   "metadata": {},
   "source": [
    "La meilleure solution est donc CDS !"
   ]
  },
  {
   "cell_type": "code",
   "execution_count": 111,
   "id": "115faeaa",
   "metadata": {},
   "outputs": [
    {
     "data": {
      "text/plain": [
       "4"
      ]
     },
     "execution_count": 111,
     "metadata": {},
     "output_type": "execute_result"
    }
   ],
   "source": []
  },
  {
   "cell_type": "code",
   "execution_count": 112,
   "id": "cc7080f7",
   "metadata": {},
   "outputs": [
    {
     "data": {
      "text/plain": [
       "3"
      ]
     },
     "execution_count": 112,
     "metadata": {},
     "output_type": "execute_result"
    }
   ],
   "source": []
  },
  {
   "cell_type": "code",
   "execution_count": null,
   "id": "fa36ee3e",
   "metadata": {},
   "outputs": [],
   "source": []
  }
 ],
 "metadata": {
  "kernelspec": {
   "display_name": "Python 3 (ipykernel)",
   "language": "python",
   "name": "python3"
  },
  "language_info": {
   "codemirror_mode": {
    "name": "ipython",
    "version": 3
   },
   "file_extension": ".py",
   "mimetype": "text/x-python",
   "name": "python",
   "nbconvert_exporter": "python",
   "pygments_lexer": "ipython3",
   "version": "3.11.5"
  }
 },
 "nbformat": 4,
 "nbformat_minor": 5
}
